{
 "cells": [
  {
   "cell_type": "code",
   "execution_count": 11,
   "id": "90591b4f",
   "metadata": {},
   "outputs": [],
   "source": [
    "from random import randint\n",
    "from IPython.display import clear_output\n",
    "\n",
    "def players_pick():\n",
    "    print('Welcome to Tic Tac Toe!')\n",
    "    \n",
    "    choices = 'OX'\n",
    "    player1 = 'placeholder'\n",
    "    \n",
    "    while player1 not in choices:\n",
    "        player1 = input(\"Please pick a marker 'X' or 'O': \").upper()\n",
    "        \n",
    "    if player1 == 'O':\n",
    "        player2 = 'X'\n",
    "    else:\n",
    "        player2 = 'O'\n",
    "    \n",
    "    random_num = round(randint(1, 2))\n",
    "    \n",
    "    print(f'Player1: {player1}')\n",
    "    print(f'Player2: {player2}\\n')\n",
    "    print(f'Player{random_num} will go first.\\n')\n",
    "    \n",
    "    print(f'  7 | 8 | 9')\n",
    "    print('-------------')\n",
    "    print(f'  4 | 5 | 6')\n",
    "    print('-------------')\n",
    "    print(f'  1 | 2 | 3')\n",
    "\n",
    "\n",
    "    return {'player1': player1, 'player2': player2, 'first': f'player{random_num}'}"
   ]
  },
  {
   "cell_type": "code",
   "execution_count": 12,
   "id": "629a31c6",
   "metadata": {},
   "outputs": [],
   "source": [
    "def place_marker(choices, board, marker='O', player='player1'):\n",
    "    marker_input = 'placeholder'\n",
    "    \n",
    "    while marker_input not in choices:\n",
    "        marker_input = input(f'{player.capitalize()} ({marker}) enter a number (1-9): ')\n",
    "        \n",
    "    \n",
    "    marker_input = int(marker_input)\n",
    "    board[marker_input] = marker\n",
    "    \n",
    "    clear_output()\n",
    "    \n",
    "    print(f'  {board[7]} | {board[8]} | {board[9]}')\n",
    "    print('-------------')\n",
    "    print(f'  {board[4]} | {board[5]} | {board[6]}')\n",
    "    print('-------------')\n",
    "    print(f'  {board[1]} | {board[2]} | {board[3]}')\n",
    "    \n",
    "    return (marker_input, board)"
   ]
  },
  {
   "cell_type": "code",
   "execution_count": 13,
   "id": "0fbeae6c",
   "metadata": {},
   "outputs": [],
   "source": [
    "def check_winner(arr):\n",
    "    # These are all conditions to win tic tac toe\n",
    "    return  (arr[1] == arr[2] == arr[3] != ' ') or (arr[4] == arr[5] == arr[6] != ' ') or (arr[7] == arr[8] == arr[9] != ' ') or (arr[1] == arr[4] == arr[7] != ' ') or (arr[2] == arr[5] == arr[8] != ' ') or (arr[3] == arr[6] == arr[9] != ' ') or (arr[1] == arr[5] == arr[9] != ' ') or (arr[7] == arr[5] == arr[3] != ' ')\n",
    "    "
   ]
  },
  {
   "cell_type": "code",
   "execution_count": 14,
   "id": "86fd7641",
   "metadata": {},
   "outputs": [],
   "source": [
    "def play_tictactoe():\n",
    "    is_gameover = False\n",
    "    \n",
    "    while is_gameover == False:\n",
    "        players = players_pick()\n",
    "        current_player = players['first']\n",
    "        board = ['#', ' ', ' ', ' ', ' ', ' ', ' ', ' ', ' ', ' ']\n",
    "        choices = [str(n) for n in range(1, 10)]\n",
    "        winner = False\n",
    "\n",
    "        while winner == False:\n",
    "            num, board = place_marker(choices, board, players[current_player], current_player)\n",
    "            choices.remove(str(num))\n",
    "            winner = check_winner(board)\n",
    "\n",
    "            if winner == False:\n",
    "                if current_player == 'player1':\n",
    "                    current_player = 'player2'\n",
    "                else:\n",
    "                    current_player = 'player1'\n",
    "\n",
    "        print('Game over!\\n')\n",
    "        print(f'The winner is {current_player}!!!!\\n')\n",
    "        \n",
    "        play_again = input('Enter \"Y\" to play again: ').upper()\n",
    "        \n",
    "        if play_again != 'Y':\n",
    "            is_gameover = True\n",
    "        \n",
    "        clear_output()\n",
    "        \n",
    "    print('Thank you for playing!')"
   ]
  },
  {
   "cell_type": "code",
   "execution_count": 15,
   "id": "c2415ee8",
   "metadata": {
    "scrolled": true
   },
   "outputs": [
    {
     "name": "stdout",
     "output_type": "stream",
     "text": [
      "Thank you for playing!\n"
     ]
    }
   ],
   "source": [
    "play_tictactoe()"
   ]
  }
 ],
 "metadata": {
  "kernelspec": {
   "display_name": "Python 3 (ipykernel)",
   "language": "python",
   "name": "python3"
  },
  "language_info": {
   "codemirror_mode": {
    "name": "ipython",
    "version": 3
   },
   "file_extension": ".py",
   "mimetype": "text/x-python",
   "name": "python",
   "nbconvert_exporter": "python",
   "pygments_lexer": "ipython3",
   "version": "3.10.9"
  }
 },
 "nbformat": 4,
 "nbformat_minor": 5
}
